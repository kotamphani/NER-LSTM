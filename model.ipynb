{
 "cells": [
  {
   "cell_type": "code",
   "execution_count": 4,
   "metadata": {},
   "outputs": [],
   "source": [
    "import numpy as np\n",
    "import torch\n",
    "import torch.nn as nn\n",
    "from torchsummary import summary\n",
    "import torch.nn.functional as F\n",
    "import torch.optim as optim\n",
    "from utils import get_params, get_vocab\n",
    "import random as r"
   ]
  },
  {
   "cell_type": "code",
   "execution_count": 5,
   "metadata": {},
   "outputs": [],
   "source": [
    "# Define the paths to the vocabulary, tags, and data files\n",
    "vocab_path = r'data\\large\\words.txt'  # Path to the vocabulary file\n",
    "tags_path = r'C:\\Personal\\Projects\\NLP\\NER\\data\\large\\tags.txt'  # Path to the tags file\n",
    "\n",
    "# Load the vocabulary and tag mapping\n",
    "vocab, tag_map = get_vocab(vocab_path, tags_path)  # Function to read vocabulary and tags from files\n",
    "\n",
    "# Create a reverse mapping of tags to their numerical indices\n",
    "map_tag = {m:t for t,m in tag_map.items()}  # Reverse the tag mapping dictionary\n",
    "map_tag  # Print the reversed tag mapping\n",
    "\n",
    "# Define the paths to the training, validation, and test data files\n",
    "train_sentences_file = r'data\\large\\train\\sentences.txt'  # Path to training sentences file\n",
    "train_labels_file = r'data\\large\\train\\labels.txt'  # Path to training labels file\n",
    "\n",
    "val_sentences_file = r'data\\large\\val\\sentences.txt'  # Path to validation sentences file\n",
    "val_labels_file = r'data\\large\\val\\labels.txt'  # Path to validation labels file\n",
    "\n",
    "test_sentences_file = r'data\\large\\test\\sentences.txt'  # Path to test sentences file\n",
    "test_labels_file = r'data\\large\\test\\labels.txt'  # Path to test labels file\n",
    "\n",
    "# Load the data for training, validation, and testing\n",
    "train_sentences, train_labels, train_size = get_params(vocab, tag_map, train_sentences_file, train_labels_file) \n",
    "val_sentences, val_labels, val_size = get_params(vocab, tag_map, val_sentences_file, val_labels_file)\n",
    "test_sentences, test_labels, test_size = get_params(vocab, tag_map, test_sentences_file, test_labels_file)\n"
   ]
  },
  {
   "cell_type": "code",
   "execution_count": 3,
   "metadata": {},
   "outputs": [],
   "source": [
    "def data_generator(X, Y, batch_size = None, shuffle = True):\n",
    "    \n",
    "    if len(X) != len(Y):\n",
    "        raise Exception(\"Length of X and Y should be of the same length\")\n",
    "    \n",
    "    if batch_size == None:\n",
    "        batch_size = len(X)\n",
    "    elif batch_size > len(X):\n",
    "        raise Exception(\"batch size should be less than Length of X\")\n",
    "    \n",
    "    indexes = [*range(len(X))]\n",
    "    if shuffle:\n",
    "        r.shuffle(indexes)\n",
    "    \n",
    "    buffer_x = [0]*batch_size\n",
    "    buffer_y = [0]*batch_size\n",
    "    \n",
    "    max_length = 0\n",
    "    \n",
    "    for i in range(batch_size):\n",
    "        buffer_x[i] = X[indexes[i]]\n",
    "        buffer_y[i] = Y[indexes[i]]\n",
    "        max_length = max(len(X[indexes[i]]), max_length)\n",
    "    \n",
    "    for index, (sentence, label) in enumerate(zip(buffer_x, buffer_y)):\n",
    "        pad_length = max_length - len(sentence)\n",
    "        buffer_x[index] = sentence + [vocab['<PAD>']] * pad_length\n",
    "        buffer_y[index] = label + [vocab['<PAD>']] * pad_length\n",
    "    \n",
    "    buffer_x = torch.tensor(buffer_x)\n",
    "    buffer_y = torch.tensor(buffer_y)\n",
    "    \n",
    "    return buffer_x, buffer_y"
   ]
  },
  {
   "cell_type": "code",
   "execution_count": 184,
   "metadata": {},
   "outputs": [],
   "source": [
    "class NER(nn.Module):\n",
    "    def __init__(self, vocab_length, n_embedding, n_hidden, n_classes) -> None:\n",
    "        super().__init__()\n",
    "        \n",
    "        self.emdedding = nn.Embedding(vocab_length, n_embedding)\n",
    "        self.lstm = nn.LSTM(n_embedding, hidden_size = n_hidden, batch_first=True)\n",
    "        self.dense = nn.Linear(n_hidden, n_classes)\n",
    "        \n",
    "    def forward(self, x):\n",
    "        x = self.emdedding(x)\n",
    "        x, _ = self.lstm(x)\n",
    "        logits = self.dense(x)\n",
    "        \n",
    "        return logits\n",
    "        "
   ]
  },
  {
   "cell_type": "code",
   "execution_count": 250,
   "metadata": {},
   "outputs": [],
   "source": [
    "def model_train(X, Y, batch_size, epochs, learning_rate, NNmodel):\n",
    "    \n",
    "    interval = epochs // 10\n",
    "    optimizer = optim.Adam(NNmodel.parameters(), learning_rate)\n",
    "    NNmodel.train()\n",
    "    for epoch in range(epochs):\n",
    "        X_batch, Y_batch = data_generator(X, Y, batch_size = batch_size)\n",
    "        logits = NNmodel.forward(X_batch)\n",
    "\n",
    "        logits = logits.view(-1, len(tag_map))  # Shape: (batch_size * seq_length, num_classes)\n",
    "        Y_batch = Y_batch.view(-1)   \n",
    "        loss = F.cross_entropy(logits, Y_batch, ignore_index = vocab['<PAD>'])\n",
    "        \n",
    "        optimizer.zero_grad()\n",
    "        loss.backward()\n",
    "        optimizer.step()\n",
    "        \n",
    "        if epoch % interval == 0:\n",
    "            print(f'Loss at epoch {epoch} ====> {loss}')\n",
    "    \n",
    "    return loss, logits"
   ]
  },
  {
   "cell_type": "code",
   "execution_count": 251,
   "metadata": {},
   "outputs": [],
   "source": [
    "vocab_length = len(vocab)\n",
    "n_embedding = 8\n",
    "n_hidden = 8\n",
    "n_classes = len(tag_map)\n",
    "\n",
    "model = NER(vocab_length, n_embedding, n_hidden, n_classes)"
   ]
  },
  {
   "cell_type": "code",
   "execution_count": 252,
   "metadata": {},
   "outputs": [
    {
     "name": "stdout",
     "output_type": "stream",
     "text": [
      "NER(\n",
      "  (emdedding): Embedding(35181, 8)\n",
      "  (lstm): LSTM(8, 8, batch_first=True)\n",
      "  (dense): Linear(in_features=8, out_features=17, bias=True)\n",
      ")\n",
      "total trainable weights = 282177\n"
     ]
    }
   ],
   "source": [
    "print(model)\n",
    "print(f'total trainable weights = {sum([parameter.nelement()for parameter in model.parameters()])}')"
   ]
  },
  {
   "cell_type": "code",
   "execution_count": 253,
   "metadata": {},
   "outputs": [
    {
     "name": "stdout",
     "output_type": "stream",
     "text": [
      "Loss at epoch 0 ====> 2.7507247924804688\n",
      "Loss at epoch 500 ====> 0.39821988344192505\n",
      "Loss at epoch 1000 ====> 0.3311210870742798\n",
      "Loss at epoch 1500 ====> 0.21176479756832123\n",
      "Loss at epoch 2000 ====> 0.2204662561416626\n",
      "Loss at epoch 2500 ====> 0.15319885313510895\n",
      "Loss at epoch 3000 ====> 0.0828745886683464\n",
      "Loss at epoch 3500 ====> 0.17982468008995056\n",
      "Loss at epoch 4000 ====> 0.07337985932826996\n",
      "Loss at epoch 4500 ====> 0.10538975149393082\n"
     ]
    },
    {
     "data": {
      "text/plain": [
       "tensor(0.1188, grad_fn=<NllLossBackward0>)"
      ]
     },
     "execution_count": 253,
     "metadata": {},
     "output_type": "execute_result"
    }
   ],
   "source": [
    "loss, logits = model_train(train_sentences, train_labels, batch_size=32, learning_rate = 0.01, epochs = 5000, NNmodel=model)\n",
    "loss"
   ]
  },
  {
   "cell_type": "code",
   "execution_count": 254,
   "metadata": {},
   "outputs": [],
   "source": [
    "@torch.no_grad()\n",
    "def evaluate(split):\n",
    "    x, y = {'train': (train_sentences, train_labels), \n",
    "            'val': (val_sentences, val_labels),\n",
    "            'test': (test_sentences, test_labels)}[split]\n",
    "    \n",
    "    x, y = data_generator(x, y)\n",
    "    logits = model.forward(x)\n",
    "    preds = F.softmax(logits, dim = 2)\n",
    "    preds = torch.argmax(preds, dim = 2)\n",
    "    \n",
    "    mask = y != vocab['<PAD>']\n",
    "    accuracy = torch.sum(preds == y)/float(torch.sum(mask)) *100\n",
    "    \n",
    "    logits = logits.view(-1, len(tag_map))  # Shape: (batch_size * seq_length, num_classes)\n",
    "    y = y.view(-1) \n",
    "    loss = F.cross_entropy(logits, y, ignore_index = vocab['<PAD>'])\n",
    "    \n",
    "    print(f'{split} Loss = {loss:.2f}, {split} Accuracy = {accuracy:.2f}')\n",
    "    return None"
   ]
  },
  {
   "cell_type": "code",
   "execution_count": 255,
   "metadata": {},
   "outputs": [
    {
     "name": "stdout",
     "output_type": "stream",
     "text": [
      "train Loss = 0.10, train Accuracy = 96.89\n",
      "val Loss = 0.17, val Accuracy = 95.28\n",
      "test Loss = 0.17, test Accuracy = 95.32\n"
     ]
    }
   ],
   "source": [
    "evaluate('train')\n",
    "evaluate('val')\n",
    "evaluate('test')"
   ]
  },
  {
   "cell_type": "markdown",
   "metadata": {},
   "source": [
    "#### Model - 1\n",
    "* n_embedding = 3\n",
    "* n_hidden = 10\n",
    "\n",
    "1. train Loss = 0.11, train Accuracy = 96.74\n",
    "2. val Loss = 0.17, val Accuracy = 95.22\n",
    "3. test Loss = 0.17, test Accuracy = 95.21\n",
    "\n",
    "#### Model - 2\n",
    "* n_embedding = 10\n",
    "* n_hidden = 10\n",
    "\n",
    "1. train Loss = 0.10, train Accuracy = 97.03\n",
    "2. val Loss = 0.17, val Accuracy = 95.39\n",
    "3. test Loss = 0.17, test Accuracy = 95.35\n",
    "\n",
    "\n",
    "#### Model - 3\n",
    "* n_embedding = 10\n",
    "* n_hidden = 1\n",
    "\n",
    "1. train Loss = 0.32, train Accuracy = 88.84\n",
    "2. val Loss = 0.35, val Accuracy = 88.43\n",
    "3. test Loss = 0.36, test Accuracy = 88.19\n",
    "\n",
    "#### Model - 4\n",
    "* n_embedding = 50\n",
    "* n_hidden = 1\n",
    "\n",
    "1. train Loss = 0.34, train Accuracy = 88.48\n",
    "2. val Loss = 0.37, val Accuracy = 88.21\n",
    "3. test Loss = 0.38, test Accuracy = 87.99\n",
    "\n",
    "\n",
    "#### Model - 5\n",
    "* n_embedding = 50\n",
    "* n_hidden = 5\n",
    "\n",
    "#### Model - 6\n",
    "* n_embedding = 3\n",
    "* n_hidden = 10\n",
    "\n",
    "1. train Loss = 0.11, train Accuracy = 96.74\n",
    "2. val Loss = 0.17, val Accuracy = 95.22\n",
    "3. test Loss = 0.17, test Accuracy = 95.21\n",
    "\n",
    "#### Model - 7\n",
    "* n_embedding = 10\n",
    "* n_hidden = 10\n",
    "\n",
    "1. train Loss = 0.10, train Accuracy = 97.03\n",
    "2. val Loss = 0.17, val Accuracy = 95.39\n",
    "3. test Loss = 0.17, test Accuracy = 95.35\n",
    "\n",
    "#### Model - 8\n",
    "* n_embedding = 5\n",
    "* n_hidden = 5\n",
    "\n",
    "1. train Loss = 0.14, train Accuracy = 96.27\n",
    "2. val Loss = 0.20, val Accuracy = 94.83\n",
    "3. test Loss = 0.20, test Accuracy = 94.80\n",
    "\n",
    "#### Model 9\n",
    "* n_embedding = 8\n",
    "* n_hidden = 8\n",
    "\n",
    "1. train Loss = 0.10, train Accuracy = 96.89\n",
    "2. val Loss = 0.17, val Accuracy = 95.28\n",
    "3. test Loss = 0.17, test Accuracy = 95.32\n",
    "\n",
    "\n"
   ]
  },
  {
   "cell_type": "code",
   "execution_count": 347,
   "metadata": {},
   "outputs": [],
   "source": [
    "def preprocess(sentence):\n",
    "    x = []\n",
    "    sentence = sentence.split()\n",
    "    for word in sentence:\n",
    "        if word not in vocab:\n",
    "            x.append(vocab['UNK'])\n",
    "        else:\n",
    "            x.append(vocab[word])\n",
    "    x = torch.tensor(x)\n",
    "    return x\n",
    "\n",
    "\n",
    "def predict(sentence, model):\n",
    "    x = preprocess(sentence)\n",
    "    logits = model.forward(x)\n",
    "    preds = F.softmax(logits, dim = 1)\n",
    "    preds = torch.argmax(preds, dim = 1)\n",
    "    result = []\n",
    "    for pred, word in zip(preds,sentence.split()):\n",
    "        print(f'{word} ===> {map_tag[pred.item()]}')\n",
    "        result.append(map_tag[pred.item()])\n",
    "    return result"
   ]
  },
  {
   "cell_type": "code",
   "execution_count": 348,
   "metadata": {},
   "outputs": [
    {
     "name": "stdout",
     "output_type": "stream",
     "text": [
      "Apple ===> B-org\n",
      "Inc. ===> I-org\n",
      "was ===> O\n",
      "founded ===> O\n",
      "by ===> O\n",
      "Steve ===> B-per\n",
      "Jobs, ===> I-per\n",
      "Steve ===> I-per\n",
      "Wozniak, ===> I-per\n",
      "and ===> O\n",
      "Ronald ===> B-per\n",
      "Wayne ===> I-per\n",
      "in ===> O\n",
      "Cupertino ===> B-geo\n",
      "on ===> O\n",
      "April ===> B-tim\n",
      "1, ===> O\n",
      "1976 ===> B-tim\n"
     ]
    },
    {
     "data": {
      "text/plain": [
       "['B-org',\n",
       " 'I-org',\n",
       " 'O',\n",
       " 'O',\n",
       " 'O',\n",
       " 'B-per',\n",
       " 'I-per',\n",
       " 'I-per',\n",
       " 'I-per',\n",
       " 'O',\n",
       " 'B-per',\n",
       " 'I-per',\n",
       " 'O',\n",
       " 'B-geo',\n",
       " 'O',\n",
       " 'B-tim',\n",
       " 'O',\n",
       " 'B-tim']"
      ]
     },
     "execution_count": 348,
     "metadata": {},
     "output_type": "execute_result"
    }
   ],
   "source": [
    "sentence = 'Apple Inc. was founded by Steve Jobs, Steve Wozniak, and Ronald Wayne in Cupertino on April 1, 1976'\n",
    "predict(sentence, model)"
   ]
  },
  {
   "cell_type": "code",
   "execution_count": 256,
   "metadata": {},
   "outputs": [
    {
     "data": {
      "text/plain": [
       "Parameter containing:\n",
       "tensor([[-1.8328, -0.2203, -0.0349,  ...,  1.0065, -2.0557, -0.6600],\n",
       "        [-0.4040,  0.1135, -2.4227,  ...,  2.2720, -0.1379,  0.4258],\n",
       "        [ 0.5370,  2.0942, -0.4447,  ...,  1.3729, -0.8314, -0.1243],\n",
       "        ...,\n",
       "        [-0.9222,  1.0555, -0.8333,  ..., -0.1270, -1.3742,  0.5358],\n",
       "        [-1.7196, -0.6844,  0.5919,  ..., -0.6999,  0.2910, -0.3639],\n",
       "        [-1.4225,  0.4762,  0.5507,  ...,  0.6846, -0.8338, -0.1449]],\n",
       "       requires_grad=True)"
      ]
     },
     "execution_count": 256,
     "metadata": {},
     "output_type": "execute_result"
    }
   ],
   "source": [
    "embeddings = list(model.parameters())[0]\n",
    "embeddings"
   ]
  },
  {
   "cell_type": "code",
   "execution_count": 257,
   "metadata": {},
   "outputs": [],
   "source": [
    "from sklearn.decomposition import PCA #Import PCA from scikit-learn\n",
    "pca = PCA(n_components=2) #PCA with two dimensions\n",
    "\n",
    "with torch.no_grad():\n",
    "    emb_2dim = pca.fit_transform(embeddings)"
   ]
  },
  {
   "cell_type": "code",
   "execution_count": 342,
   "metadata": {},
   "outputs": [
    {
     "data": {
      "image/png": "[encoded data removed]",
      "text/plain": [
       "<Figure size 640x480 with 1 Axes>"
      ]
     },
     "metadata": {},
     "output_type": "display_data"
    }
   ],
   "source": [
    "%matplotlib inline\n",
    "import matplotlib.pyplot as plt\n",
    "\n",
    "#Selection of negative and positive words\n",
    "neg_words = ['Google', 'Apple', 'Hospital', 'Labor', 'Government']\n",
    "pos_words = ['Iraq', 'Paris', 'Rome', 'States', 'Europe']\n",
    "\n",
    "#Index of each selected word\n",
    "neg_n = [vocab[w] for w in neg_words]\n",
    "pos_n = [vocab[w] for w in pos_words]\n",
    "\n",
    "plt.figure()\n",
    "\n",
    "#Scatter plot for negative words\n",
    "plt.scatter(emb_2dim[neg_n][:,0],emb_2dim[neg_n][:,1], color = 'r')\n",
    "for i, txt in enumerate(neg_words): \n",
    "    plt.annotate(txt, (emb_2dim[neg_n][i,0],emb_2dim[neg_n][i,1]))\n",
    "\n",
    "#Scatter plot for positive words\n",
    "plt.scatter(emb_2dim[pos_n][:,0],emb_2dim[pos_n][:,1], color = 'g')\n",
    "for i, txt in enumerate(pos_words): \n",
    "    plt.annotate(txt,(emb_2dim[pos_n][i,0],emb_2dim[pos_n][i,1]))\n",
    "\n",
    "plt.title('Word embeddings in 2d')\n",
    "\n",
    "plt.show()"
   ]
  }
 ],
 "metadata": {
  "kernelspec": {
   "display_name": "datascience",
   "language": "python",
   "name": "python3"
  },
  "language_info": {
   "codemirror_mode": {
    "name": "ipython",
    "version": 3
   },
   "file_extension": ".py",
   "mimetype": "text/x-python",
   "name": "python",
   "nbconvert_exporter": "python",
   "pygments_lexer": "ipython3",
   "version": "3.10.10"
  }
 },
 "nbformat": 4,
 "nbformat_minor": 2
}
